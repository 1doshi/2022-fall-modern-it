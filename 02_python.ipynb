{
  "nbformat": 4,
  "nbformat_minor": 0,
  "metadata": {
    "colab": {
      "provenance": []
    },
    "kernelspec": {
      "name": "python3",
      "display_name": "Python 3"
    },
    "language_info": {
      "name": "python"
    }
  },
  "cells": [
    {
      "cell_type": "markdown",
      "source": [
        "## 02. Python"
      ],
      "metadata": {
        "id": "4IsgPHrHMCxU"
      }
    },
    {
      "cell_type": "markdown",
      "source": [
        "## OOP"
      ],
      "metadata": {
        "id": "d0oRJ6GYpRTZ"
      }
    },
    {
      "cell_type": "code",
      "execution_count": 1,
      "metadata": {
        "colab": {
          "base_uri": "https://localhost:8080/"
        },
        "id": "xtHc5WE7L-um",
        "outputId": "010fd1e3-1d30-4c50-f129-c6efb32a0114"
      },
      "outputs": [
        {
          "output_type": "stream",
          "name": "stdout",
          "text": [
            "139969643931472\n"
          ]
        }
      ],
      "source": [
        "# Example of class (OOP)\n",
        "\n",
        "class Example:\n",
        "  \"\"\"\n",
        "  This is an example\n",
        "  \"\"\"\n",
        "  def print_id(self):\n",
        "    print(id(self))\n",
        "\n",
        "obj = Example()\n",
        "obj.print_id()"
      ]
    },
    {
      "cell_type": "code",
      "source": [
        "# Class is also an object (here id is an unique identificator)\n",
        "\n",
        "id(Example)"
      ],
      "metadata": {
        "colab": {
          "base_uri": "https://localhost:8080/"
        },
        "id": "AeRxXh81Msf0",
        "outputId": "68fa060b-87de-43ce-c40d-a8b6f7aaa19b"
      },
      "execution_count": 4,
      "outputs": [
        {
          "output_type": "execute_result",
          "data": {
            "text/plain": [
              "60275744"
            ]
          },
          "metadata": {},
          "execution_count": 4
        }
      ]
    },
    {
      "cell_type": "code",
      "source": [
        "# Inheritance\n",
        "class Child(Example):\n",
        "  pass\n",
        "\n",
        "ch = Child()\n",
        "ch.print_id()"
      ],
      "metadata": {
        "colab": {
          "base_uri": "https://localhost:8080/"
        },
        "id": "QmF6VAdUQJ4q",
        "outputId": "0f18a968-a678-433e-a451-285bb7c3eeac"
      },
      "execution_count": null,
      "outputs": [
        {
          "output_type": "stream",
          "name": "stdout",
          "text": [
            "140419674659152\n"
          ]
        }
      ]
    },
    {
      "cell_type": "code",
      "source": [
        "# Access control in classes: _ and __\n",
        "\n",
        "class ExampleAccess:\n",
        "  \"\"\"\n",
        "  This is an example\n",
        "  \"\"\"\n",
        "  def _hidden_method(self):\n",
        "    print(\"hidden method\")\n",
        "\n",
        "  def __hidden_method_strong(self):\n",
        "    print(\"strong hidden method\")\n",
        "\n",
        "  def print_id(self):\n",
        "    print(id(self))\n",
        "\n",
        "  def __str__(self): # magic method\n",
        "    return f\"This is an instance of ExampleAccess {id(self)}\"\n",
        "\n",
        "obj = ExampleAccess()\n",
        "obj.print_id()\n",
        "obj._hidden_method()\n",
        "#obj.__hidden_method_strong() <- cannot be called in this way\n"
      ],
      "metadata": {
        "colab": {
          "base_uri": "https://localhost:8080/"
        },
        "id": "m-QsnMZDQ-uy",
        "outputId": "343b0078-78b0-4460-ff6a-2da6a978844c"
      },
      "execution_count": 6,
      "outputs": [
        {
          "output_type": "stream",
          "name": "stdout",
          "text": [
            "139969582719440\n",
            "hidden method\n"
          ]
        }
      ]
    },
    {
      "cell_type": "code",
      "source": [
        "# __ renames method\n",
        "dir(ExampleAccess)"
      ],
      "metadata": {
        "colab": {
          "base_uri": "https://localhost:8080/"
        },
        "id": "tBBv6tWvS_GZ",
        "outputId": "030ef846-3b56-4c60-b668-24db044da3ba"
      },
      "execution_count": 7,
      "outputs": [
        {
          "output_type": "execute_result",
          "data": {
            "text/plain": [
              "['_ExampleAccess__hidden_method_strong',\n",
              " '__class__',\n",
              " '__delattr__',\n",
              " '__dict__',\n",
              " '__dir__',\n",
              " '__doc__',\n",
              " '__eq__',\n",
              " '__format__',\n",
              " '__ge__',\n",
              " '__getattribute__',\n",
              " '__gt__',\n",
              " '__hash__',\n",
              " '__init__',\n",
              " '__init_subclass__',\n",
              " '__le__',\n",
              " '__lt__',\n",
              " '__module__',\n",
              " '__ne__',\n",
              " '__new__',\n",
              " '__reduce__',\n",
              " '__reduce_ex__',\n",
              " '__repr__',\n",
              " '__setattr__',\n",
              " '__sizeof__',\n",
              " '__str__',\n",
              " '__subclasshook__',\n",
              " '__weakref__',\n",
              " '_hidden_method',\n",
              " 'print_id']"
            ]
          },
          "metadata": {},
          "execution_count": 7
        }
      ]
    },
    {
      "cell_type": "code",
      "source": [
        "# Example of __str__ usage\n",
        "print(obj)"
      ],
      "metadata": {
        "colab": {
          "base_uri": "https://localhost:8080/"
        },
        "id": "46GyAhflTbLj",
        "outputId": "a5cc79a0-1cbe-458b-af69-8c49088f7612"
      },
      "execution_count": 8,
      "outputs": [
        {
          "output_type": "stream",
          "name": "stdout",
          "text": [
            "This is an instance of ExampleAccess 139969582719440\n"
          ]
        }
      ]
    },
    {
      "cell_type": "code",
      "source": [
        "# Class variable vs object variable\n",
        "\n",
        "class DataClass:\n",
        "  var = 1\n",
        "  def __init__(self, size):\n",
        "    self.size = size\n",
        "\n",
        "obj_data_1 = DataClass(size=8)\n",
        "obj_data_2 = DataClass(size=10)\n",
        "\n",
        "print(obj_data_1.size)\n",
        "print(obj_data_1.var)\n",
        "\n",
        "DataClass.var=2\n",
        "print(obj_data_1.var)\n",
        "\n",
        "print(obj_data_2.size)\n",
        "print(obj_data_2.var)"
      ],
      "metadata": {
        "colab": {
          "base_uri": "https://localhost:8080/"
        },
        "id": "H7NeZl1ST4xt",
        "outputId": "642a8631-fdc3-4332-d085-ff3409c0477d"
      },
      "execution_count": 9,
      "outputs": [
        {
          "output_type": "stream",
          "name": "stdout",
          "text": [
            "8\n",
            "1\n",
            "2\n",
            "10\n",
            "2\n"
          ]
        }
      ]
    },
    {
      "cell_type": "markdown",
      "source": [
        "### Links\n",
        "\n",
        "- https://refactoring.guru/"
      ],
      "metadata": {
        "id": "I7wkLENxcUPV"
      }
    },
    {
      "cell_type": "markdown",
      "source": [
        "##  Packages"
      ],
      "metadata": {
        "id": "6fwZcTwIVfyG"
      }
    },
    {
      "cell_type": "code",
      "source": [
        "# import name_of_package"
      ],
      "metadata": {
        "id": "-gkCBrNyUmTX"
      },
      "execution_count": null,
      "outputs": []
    },
    {
      "cell_type": "markdown",
      "source": [
        "### NumPy"
      ],
      "metadata": {
        "id": "An-wDtqXqA3c"
      }
    },
    {
      "cell_type": "code",
      "source": [
        "# Import numpy\n",
        "import numpy as np"
      ],
      "metadata": {
        "id": "D-5lVwg5Vn_i"
      },
      "execution_count": 17,
      "outputs": []
    },
    {
      "cell_type": "code",
      "source": [
        "# Example of array: shape, dtype\n",
        "a = np.zeros(shape=[4, 3, 2], dtype=np.int32)\n",
        "a"
      ],
      "metadata": {
        "id": "tMy9Wm_pVqJ0",
        "colab": {
          "base_uri": "https://localhost:8080/"
        },
        "outputId": "ef057289-829d-429b-e41e-dfe57004a898"
      },
      "execution_count": 19,
      "outputs": [
        {
          "output_type": "execute_result",
          "data": {
            "text/plain": [
              "array([[[0, 0],\n",
              "        [0, 0],\n",
              "        [0, 0]],\n",
              "\n",
              "       [[0, 0],\n",
              "        [0, 0],\n",
              "        [0, 0]],\n",
              "\n",
              "       [[0, 0],\n",
              "        [0, 0],\n",
              "        [0, 0]],\n",
              "\n",
              "       [[0, 0],\n",
              "        [0, 0],\n",
              "        [0, 0]]], dtype=int32)"
            ]
          },
          "metadata": {},
          "execution_count": 19
        }
      ]
    },
    {
      "cell_type": "markdown",
      "source": [
        "#### NumPy vs List performance experiment"
      ],
      "metadata": {
        "id": "cyNgKT6LqLzI"
      }
    },
    {
      "cell_type": "code",
      "source": [
        "# create new random list\n",
        "import random\n",
        "a = [random.randint(0, 1000) for _ in range(10000)]"
      ],
      "metadata": {
        "id": "II_StV2cW-my"
      },
      "execution_count": 10,
      "outputs": []
    },
    {
      "cell_type": "code",
      "source": [
        "# test sum\n",
        "sum(a)"
      ],
      "metadata": {
        "colab": {
          "base_uri": "https://localhost:8080/"
        },
        "id": "mShgGZYHc48F",
        "outputId": "d9d1f315-c372-4e80-9acb-bc0e15dbfdd0"
      },
      "execution_count": 11,
      "outputs": [
        {
          "output_type": "execute_result",
          "data": {
            "text/plain": [
              "4977928"
            ]
          },
          "metadata": {},
          "execution_count": 11
        }
      ]
    },
    {
      "cell_type": "code",
      "source": [
        "# Perfromance check\n",
        "%timeit sum(a)"
      ],
      "metadata": {
        "colab": {
          "base_uri": "https://localhost:8080/"
        },
        "id": "fPpXDD4xcjcE",
        "outputId": "5cb0365a-7863-49f5-f922-937dc21d2f2e"
      },
      "execution_count": 12,
      "outputs": [
        {
          "output_type": "stream",
          "name": "stdout",
          "text": [
            "85.8 µs ± 10.4 µs per loop (mean ± std. dev. of 7 runs, 10000 loops each)\n"
          ]
        }
      ]
    },
    {
      "cell_type": "code",
      "source": [
        "# Convert it to numpy array\n",
        "a_array = np.array(a, dtype=np.int16)"
      ],
      "metadata": {
        "id": "iGm5wHOicjz1"
      },
      "execution_count": 15,
      "outputs": []
    },
    {
      "cell_type": "code",
      "source": [
        "# Perfromance check\n",
        "%timeit a_array.sum()"
      ],
      "metadata": {
        "colab": {
          "base_uri": "https://localhost:8080/"
        },
        "id": "sz-_9R8QczvI",
        "outputId": "1cb056c4-a4ee-41dc-860f-22ba9534704a"
      },
      "execution_count": 16,
      "outputs": [
        {
          "output_type": "stream",
          "name": "stdout",
          "text": [
            "12.4 µs ± 308 ns per loop (mean ± std. dev. of 7 runs, 100000 loops each)\n"
          ]
        }
      ]
    },
    {
      "cell_type": "markdown",
      "source": [
        "#### Links\n",
        "\n",
        "- https://numpy.org/doc/stable/reference/generated/numpy.zeros.html#numpy.zeros\n",
        "- https://fgnt.github.io/python_crashkurs_doc/include/numpy.html"
      ],
      "metadata": {
        "id": "UEkWdcTAcNcv"
      }
    },
    {
      "cell_type": "markdown",
      "source": [
        "### Matplotlib vs Seaborn"
      ],
      "metadata": {
        "id": "pBQZjfQ3qukY"
      }
    },
    {
      "cell_type": "markdown",
      "source": [
        "See galaries:\n",
        "- https://seaborn.pydata.org/examples/index.html\n",
        "- https://matplotlib.org/stable/gallery/index"
      ],
      "metadata": {
        "id": "Jxk1eE9Aq5XU"
      }
    },
    {
      "cell_type": "code",
      "source": [
        "# Example: https://matplotlib.org/stable/gallery/lines_bars_and_markers/errorbar_limits_simple.html#sphx-glr-gallery-lines-bars-and-markers-errorbar-limits-simple-py\n",
        "\n",
        "import matplotlib.pyplot as plt\n",
        "\n",
        "fig = plt.figure()\n",
        "x = np.arange(10)\n",
        "y = 2.5 * np.sin(x / 20 * np.pi)\n",
        "yerr = np.linspace(0.05, 0.2, 10)\n",
        "\n",
        "plt.errorbar(x, y + 3, yerr=yerr, label='both limits (default)')\n",
        "\n",
        "plt.errorbar(x, y + 2, yerr=yerr, uplims=True, label='uplims=True')\n",
        "\n",
        "plt.errorbar(x, y + 1, yerr=yerr, uplims=True, lolims=True,\n",
        "             label='uplims=True, lolims=True')\n",
        "\n",
        "upperlimits = [True, False] * 5\n",
        "lowerlimits = [False, True] * 5\n",
        "plt.errorbar(x, y, yerr=yerr, uplims=upperlimits, lolims=lowerlimits,\n",
        "             label='subsets of uplims and lolims')\n",
        "\n",
        "plt.legend(loc='lower right')"
      ],
      "metadata": {
        "id": "hoML5Q0qc0qO",
        "colab": {
          "base_uri": "https://localhost:8080/",
          "height": 302
        },
        "outputId": "2fe35add-7991-4b1a-a2c3-9acf3b0fa74f"
      },
      "execution_count": 24,
      "outputs": [
        {
          "output_type": "execute_result",
          "data": {
            "text/plain": [
              "<matplotlib.legend.Legend at 0x7f4d33d56590>"
            ]
          },
          "metadata": {},
          "execution_count": 24
        },
        {
          "output_type": "display_data",
          "data": {
            "text/plain": [
              "<Figure size 432x288 with 1 Axes>"
            ],
            "image/png": "[encoded data removed]"
          },
          "metadata": {
            "needs_background": "light"
          }
        }
      ]
    },
    {
      "cell_type": "code",
      "source": [],
      "metadata": {
        "id": "Ev4jH8hKrGpp"
      },
      "execution_count": null,
      "outputs": []
    }
  ]
}